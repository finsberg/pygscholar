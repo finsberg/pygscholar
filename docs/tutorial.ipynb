{
 "cells": [
  {
   "attachments": {},
   "cell_type": "markdown",
   "id": "2b924220",
   "metadata": {},
   "source": [
    "# Tutorial\n",
    "\n",
    "Here we will show the basic commands for working with `pygscholar`. When you install `pygscholar` you will get access to the `scholar` command which you can use in the terminal. In this tutorial we are running the commands from a notebook and therefore all commands starts with a `!`. However if you are using a terminal, then you should not use the `!` in front of the command.\n",
    "\n",
    "## The help option\n",
    "To see all the available options, you can type \n",
    "```\n",
    "$ scholar --help\n",
    "```"
   ]
  },
  {
   "cell_type": "code",
   "execution_count": null,
   "id": "2055e560",
   "metadata": {},
   "outputs": [],
   "source": [
    "!scholar --help"
   ]
  },
  {
   "attachments": {},
   "cell_type": "markdown",
   "id": "7c2b485a",
   "metadata": {},
   "source": [
    "This will list all the available options with a message explaining the different sub-commands. For each sub-command you can also use the `--help` option, e.g\n",
    "\n",
    "```\n",
    "$ scholar add-author --help\n",
    "```"
   ]
  },
  {
   "cell_type": "code",
   "execution_count": null,
   "id": "3585451a",
   "metadata": {},
   "outputs": [],
   "source": [
    "!scholar add-author --help"
   ]
  },
  {
   "cell_type": "markdown",
   "id": "8185c98a",
   "metadata": {},
   "source": [
    "## Adding an author to your database\n",
    "\n",
    "The way `pygscholar` works is that you need to add authors to a database in order for `pygscholar` to find them. First we can try to list all the authors in our database using the command\n",
    "\n",
    "```\n",
    "$ scholar list-authors\n",
    "```"
   ]
  },
  {
   "cell_type": "code",
   "execution_count": null,
   "id": "4bf62aa4",
   "metadata": {},
   "outputs": [],
   "source": [
    "!scholar list-authors"
   ]
  },
  {
   "cell_type": "markdown",
   "id": "756d1418",
   "metadata": {},
   "source": [
    "Now we could try to add an author to the database by using the command\n",
    "```\n",
    "$ scholar add-author <name of author>\n",
    "```\n",
    "e.g\n",
    "```\n",
    "$ scholar add-author 'Henrik Finsberg'\n",
    "```\n"
   ]
  },
  {
   "cell_type": "code",
   "execution_count": null,
   "id": "0c601157",
   "metadata": {},
   "outputs": [],
   "source": [
    "!scholar add-author 'Henrik Finsberg'"
   ]
  },
  {
   "cell_type": "markdown",
   "id": "870dacbf",
   "metadata": {},
   "source": [
    "You can now try to list the authors again"
   ]
  },
  {
   "cell_type": "code",
   "execution_count": null,
   "id": "25a3ce81",
   "metadata": {},
   "outputs": [],
   "source": [
    "!scholar list-authors"
   ]
  },
  {
   "attachments": {},
   "cell_type": "markdown",
   "id": "5782d6c6",
   "metadata": {},
   "source": [
    "As we can see, we didn't type the full name (i.e Henrik Nicolay Finsberg), but the program was still able to find the correct author. Sometimes there are more than one person with the same name, in which case you can use the `Scholar ID` to specify which person you mean. We can first use the command\n",
    "```\n",
    "$ scholar search-author\n",
    "```\n",
    "to search for an author. This would be equivalent of searching for an author at Google Scholar. Let us say that we want to add a person with surname 'Sundnes' that we know work at Simula Research Laboratory. We can then search for `Sundnes`\n",
    "```\n",
    "$ scholar search-author 'Sundnes'\n",
    "```"
   ]
  },
  {
   "cell_type": "code",
   "execution_count": null,
   "id": "502572ea",
   "metadata": {},
   "outputs": [],
   "source": [
    "!scholar search-author 'Sundnes'"
   ]
  },
  {
   "cell_type": "markdown",
   "id": "c66c9747",
   "metadata": {},
   "source": [
    "We see that, the person we are looking for is `Joakim Sundnes`, so we could go ahead an add this author, or we could use the `Scholar ID` as follows\n",
    "\n",
    "```\n",
    "$ scholar add-author 'Sundnes' --scholar-id=YfOpQUcAAAAJ\n",
    "```"
   ]
  },
  {
   "cell_type": "code",
   "execution_count": null,
   "id": "e26ff26d",
   "metadata": {},
   "outputs": [],
   "source": [
    "!scholar add-author 'Sundnes' --scholar-id=YfOpQUcAAAAJ"
   ]
  },
  {
   "cell_type": "markdown",
   "id": "20f4ec72",
   "metadata": {},
   "source": [
    "We can now list the authors again"
   ]
  },
  {
   "cell_type": "code",
   "execution_count": null,
   "id": "a66489a2",
   "metadata": {},
   "outputs": [],
   "source": [
    "!scholar list-authors"
   ]
  },
  {
   "cell_type": "markdown",
   "id": "b6efea9b",
   "metadata": {},
   "source": [
    "## Listing author publications \n",
    "The next command we want to look at is the command\n",
    "```\n",
    "$ scholar list-author-publications\n",
    "```\n",
    "We can take a look at the help section first"
   ]
  },
  {
   "cell_type": "code",
   "execution_count": null,
   "id": "15fcd5d1",
   "metadata": {},
   "outputs": [],
   "source": [
    "!scholar list-author-publications --help"
   ]
  },
  {
   "cell_type": "markdown",
   "id": "80444b09",
   "metadata": {},
   "source": [
    "We see that the command takes a name, which is the name of the author. Let us try it on one of the names in the database"
   ]
  },
  {
   "cell_type": "code",
   "execution_count": null,
   "id": "4b0d1a89",
   "metadata": {},
   "outputs": [],
   "source": [
    "!scholar list-author-publications 'Henrik Finsberg'"
   ]
  },
  {
   "attachments": {},
   "cell_type": "markdown",
   "id": "12a10eeb",
   "metadata": {},
   "source": [
    "We see that it will display the 5 most cited papers, sorted with the most cited paper on top. We can also choose to display only 3 papers (using the `--n` flag), and we can also choose to not display papers that are more than two years old (using the `--max-age` flag). Let us also add all the authors on the papers for each row using the `--add-authors` flag"
   ]
  },
  {
   "cell_type": "code",
   "execution_count": null,
   "id": "4b9430a3",
   "metadata": {},
   "outputs": [],
   "source": [
    "!scholar list-author-publications 'Henrik Finsberg' --n=3 --max-age=2 --add-authors"
   ]
  },
  {
   "attachments": {},
   "cell_type": "markdown",
   "id": "e6ad1ac6",
   "metadata": {},
   "source": [
    "## Listing publications for the whole department\n",
    "\n",
    "Our department now consists of two researchers (Henrik Finsberg and Joakim Sundnes), but you could imaging that you have a lot of researchers in your department. It would then be nice to list the most cited papers across the whole department. We can do this with the \n",
    "```\n",
    "$ scholar list-department-publications\n",
    "```\n",
    "command. Let us first loook at the help menu"
   ]
  },
  {
   "cell_type": "code",
   "execution_count": null,
   "id": "17ca2ebb",
   "metadata": {},
   "outputs": [],
   "source": [
    "!scholar list-department-publications --help"
   ]
  },
  {
   "cell_type": "markdown",
   "id": "40bd09b7",
   "metadata": {},
   "source": [
    "Let us list the most cited papers not older than 2 year using the command\n",
    "```\n",
    "$ scholar list-department-publications --max-age=2\n",
    "```"
   ]
  },
  {
   "cell_type": "code",
   "execution_count": null,
   "id": "35ee92da",
   "metadata": {},
   "outputs": [],
   "source": [
    "!scholar list-department-publications --max-age=2"
   ]
  },
  {
   "cell_type": "code",
   "execution_count": null,
   "id": "0a30f179",
   "metadata": {},
   "outputs": [],
   "source": []
  },
  {
   "cell_type": "markdown",
   "id": "73d672a7",
   "metadata": {},
   "source": [
    "We can also get the 5 most recent publications using the `--no-sort-by-citations` flag"
   ]
  },
  {
   "cell_type": "code",
   "execution_count": null,
   "id": "de3978f6",
   "metadata": {},
   "outputs": [],
   "source": [
    "!scholar list-department-publications --no-sort-by-citations"
   ]
  },
  {
   "attachments": {},
   "cell_type": "markdown",
   "id": "06765dcc",
   "metadata": {},
   "source": [
    "It is also to possible to list new publications using the command "
   ]
  },
  {
   "cell_type": "code",
   "execution_count": null,
   "id": "63141af3",
   "metadata": {},
   "outputs": [],
   "source": [
    "!scholar list-new-department-publications"
   ]
  }
 ],
 "metadata": {
  "kernelspec": {
   "display_name": "Python 3 (ipykernel)",
   "language": "python",
   "name": "python3"
  },
  "language_info": {
   "codemirror_mode": {
    "name": "ipython",
    "version": 3
   },
   "file_extension": ".py",
   "mimetype": "text/x-python",
   "name": "python",
   "nbconvert_exporter": "python",
   "pygments_lexer": "ipython3",
   "version": "3.10.6"
  }
 },
 "nbformat": 4,
 "nbformat_minor": 5
}
