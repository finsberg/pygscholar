{
 "cells": [
  {
   "cell_type": "markdown",
   "id": "2b924220",
   "metadata": {},
   "source": [
    "# Tutorial\n",
    "\n",
    "Here we will show the basic commands for working with `pygscholar`. When you install `pygscholar` you will get access to the `scholar` command which you can use in the terminal. In this tutorial we are running the command from a notebook and therefor all commands starts with a `!`. However if you are using a terminal, then you should not use the `!` in front of the command.\n",
    "\n",
    "## The help option\n",
    "See all the options you can type \n",
    "```\n",
    "$ scholar --help\n",
    "```"
   ]
  },
  {
   "cell_type": "code",
   "execution_count": 3,
   "id": "2055e560",
   "metadata": {
    "scrolled": true
   },
   "outputs": [
    {
     "name": "stdout",
     "output_type": "stream",
     "text": [
      "\u001b[1m                                                                                \u001b[0m\r\n",
      "\u001b[1m \u001b[0m\u001b[1;33mUsage: \u001b[0m\u001b[1mscholar [OPTIONS] COMMAND [ARGS]...\u001b[0m\u001b[1m                                    \u001b[0m\u001b[1m \u001b[0m\r\n",
      "\u001b[1m                                                                                \u001b[0m\r\n",
      "\u001b[2m╭─\u001b[0m\u001b[2m Options \u001b[0m\u001b[2m───────────────────────────────────────────────────────────────────\u001b[0m\u001b[2m─╮\u001b[0m\r\n",
      "\u001b[2m│\u001b[0m \u001b[1;36m-\u001b[0m\u001b[1;36m-version\u001b[0m                   \u001b[1;33m                       \u001b[0m  Show version            \u001b[2m│\u001b[0m\r\n",
      "\u001b[2m│\u001b[0m \u001b[1;36m-\u001b[0m\u001b[1;36m-license\u001b[0m                   \u001b[1;33m                       \u001b[0m  Show license            \u001b[2m│\u001b[0m\r\n",
      "\u001b[2m│\u001b[0m \u001b[1;36m-\u001b[0m\u001b[1;36m-install\u001b[0m\u001b[1;36m-completion\u001b[0m        \u001b[1;2;33m[\u001b[0m\u001b[1;33mbash\u001b[0m\u001b[1;2;33m|\u001b[0m\u001b[1;33mzsh\u001b[0m\u001b[1;2;33m|\u001b[0m\u001b[1;33mfish\u001b[0m\u001b[1;2;33m|\u001b[0m\u001b[1;33mpowershe\u001b[0m  Install completion for  \u001b[2m│\u001b[0m\r\n",
      "\u001b[2m│\u001b[0m                             \u001b[1;33mll\u001b[0m\u001b[1;2;33m|\u001b[0m\u001b[1;33mpwsh\u001b[0m\u001b[1;2;33m]\u001b[0m\u001b[1;33m               \u001b[0m  the specified shell.    \u001b[2m│\u001b[0m\r\n",
      "\u001b[2m│\u001b[0m                                                      \u001b[2m[default: None]        \u001b[0m \u001b[2m│\u001b[0m\r\n",
      "\u001b[2m│\u001b[0m \u001b[1;36m-\u001b[0m\u001b[1;36m-show\u001b[0m\u001b[1;36m-completion\u001b[0m           \u001b[1;2;33m[\u001b[0m\u001b[1;33mbash\u001b[0m\u001b[1;2;33m|\u001b[0m\u001b[1;33mzsh\u001b[0m\u001b[1;2;33m|\u001b[0m\u001b[1;33mfish\u001b[0m\u001b[1;2;33m|\u001b[0m\u001b[1;33mpowershe\u001b[0m  Show completion for the \u001b[2m│\u001b[0m\r\n",
      "\u001b[2m│\u001b[0m                             \u001b[1;33mll\u001b[0m\u001b[1;2;33m|\u001b[0m\u001b[1;33mpwsh\u001b[0m\u001b[1;2;33m]\u001b[0m\u001b[1;33m               \u001b[0m  specified shell, to     \u001b[2m│\u001b[0m\r\n",
      "\u001b[2m│\u001b[0m                                                      copy it or customize    \u001b[2m│\u001b[0m\r\n",
      "\u001b[2m│\u001b[0m                                                      the installation.       \u001b[2m│\u001b[0m\r\n",
      "\u001b[2m│\u001b[0m                                                      \u001b[2m[default: None]        \u001b[0m \u001b[2m│\u001b[0m\r\n",
      "\u001b[2m│\u001b[0m \u001b[1;36m-\u001b[0m\u001b[1;36m-help\u001b[0m                      \u001b[1;33m                       \u001b[0m  Show this message and   \u001b[2m│\u001b[0m\r\n",
      "\u001b[2m│\u001b[0m                                                      exit.                   \u001b[2m│\u001b[0m\r\n",
      "\u001b[2m╰──────────────────────────────────────────────────────────────────────────────╯\u001b[0m\r\n",
      "\u001b[2m╭─\u001b[0m\u001b[2m Commands \u001b[0m\u001b[2m──────────────────────────────────────────────────────────────────\u001b[0m\u001b[2m─╮\u001b[0m\r\n",
      "\u001b[2m│\u001b[0m \u001b[1;36madd-author                     \u001b[0m\u001b[1;36m \u001b[0m Add new author                              \u001b[2m│\u001b[0m\r\n",
      "\u001b[2m│\u001b[0m \u001b[1;36mlist-author-publications       \u001b[0m\u001b[1;36m \u001b[0m List authors publications                   \u001b[2m│\u001b[0m\r\n",
      "\u001b[2m│\u001b[0m \u001b[1;36mlist-authors                   \u001b[0m\u001b[1;36m \u001b[0m List all authors                            \u001b[2m│\u001b[0m\r\n",
      "\u001b[2m│\u001b[0m \u001b[1;36mlist-department-publications   \u001b[0m\u001b[1;36m \u001b[0m List department publications                \u001b[2m│\u001b[0m\r\n",
      "\u001b[2m│\u001b[0m \u001b[1;36mlist-new-dep-publications      \u001b[0m\u001b[1;36m \u001b[0m List new publications for the department    \u001b[2m│\u001b[0m\r\n",
      "\u001b[2m│\u001b[0m \u001b[1;36mpost-slack-new-dep-publications\u001b[0m\u001b[1;36m \u001b[0m Post new publications for the department to \u001b[2m│\u001b[0m\r\n",
      "\u001b[2m│\u001b[0m \u001b[1;36m                                \u001b[0m Slack                                       \u001b[2m│\u001b[0m\r\n",
      "\u001b[2m│\u001b[0m \u001b[1;36mremove-author                  \u001b[0m\u001b[1;36m \u001b[0m Remove author                               \u001b[2m│\u001b[0m\r\n",
      "\u001b[2m│\u001b[0m \u001b[1;36msearch-author                  \u001b[0m\u001b[1;36m \u001b[0m Search for authors                          \u001b[2m│\u001b[0m\r\n",
      "\u001b[2m╰──────────────────────────────────────────────────────────────────────────────╯\u001b[0m\r\n",
      "\r\n"
     ]
    }
   ],
   "source": [
    "!scholar --help"
   ]
  },
  {
   "cell_type": "markdown",
   "id": "7c2b485a",
   "metadata": {},
   "source": [
    "This will list all the available options with a message explaining the different sub commands. For each sub-command you can also use the `--help` option, e.g\n",
    "\n",
    "```\n",
    "$ scholar add-author --help\n",
    "```"
   ]
  },
  {
   "cell_type": "code",
   "execution_count": 5,
   "id": "3585451a",
   "metadata": {},
   "outputs": [
    {
     "name": "stdout",
     "output_type": "stream",
     "text": [
      "\u001b[1m                                                                                \u001b[0m\r\n",
      "\u001b[1m \u001b[0m\u001b[1;33mUsage: \u001b[0m\u001b[1mscholar add-author [OPTIONS] NAME\u001b[0m\u001b[1m                                      \u001b[0m\u001b[1m \u001b[0m\r\n",
      "\u001b[1m                                                                                \u001b[0m\r\n",
      " Add new author                                                                 \r\n",
      "                                                                                \r\n",
      "\u001b[2m╭─\u001b[0m\u001b[2m Arguments \u001b[0m\u001b[2m─────────────────────────────────────────────────────────────────\u001b[0m\u001b[2m─╮\u001b[0m\r\n",
      "\u001b[2m│\u001b[0m \u001b[31m*\u001b[0m    name      \u001b[1;33mTEXT\u001b[0m  \u001b[2m[default: None]\u001b[0m \u001b[2;31m[required]\u001b[0m                              \u001b[2m│\u001b[0m\r\n",
      "\u001b[2m╰──────────────────────────────────────────────────────────────────────────────╯\u001b[0m\r\n",
      "\u001b[2m╭─\u001b[0m\u001b[2m Options \u001b[0m\u001b[2m───────────────────────────────────────────────────────────────────\u001b[0m\u001b[2m─╮\u001b[0m\r\n",
      "\u001b[2m│\u001b[0m \u001b[1;36m-\u001b[0m\u001b[1;36m-scholar\u001b[0m\u001b[1;36m-id\u001b[0m        \u001b[1;33mTEXT\u001b[0m                                                     \u001b[2m│\u001b[0m\r\n",
      "\u001b[2m│\u001b[0m \u001b[1;36m-\u001b[0m\u001b[1;36m-cache\u001b[0m\u001b[1;36m-dir\u001b[0m         \u001b[1;33mTEXT\u001b[0m  \u001b[2m[default:                                         \u001b[0m \u001b[2m│\u001b[0m\r\n",
      "\u001b[2m│\u001b[0m                           \u001b[2m/Users/finsberg/local/src/pygscholar/cache]       \u001b[0m \u001b[2m│\u001b[0m\r\n",
      "\u001b[2m│\u001b[0m \u001b[1;36m-\u001b[0m\u001b[1;36m-help\u001b[0m              \u001b[1;33m    \u001b[0m  Show this message and exit.                        \u001b[2m│\u001b[0m\r\n",
      "\u001b[2m╰──────────────────────────────────────────────────────────────────────────────╯\u001b[0m\r\n",
      "\r\n"
     ]
    }
   ],
   "source": [
    "!scholar add-author --help"
   ]
  },
  {
   "cell_type": "markdown",
   "id": "8185c98a",
   "metadata": {},
   "source": [
    "## Adding an author to your database\n",
    "\n",
    "The way `pygscholar` works is that you need to add authors to a database in order for `pygscholar` to find them. First we can try to list all the authors in our database using the command\n",
    "\n",
    "```\n",
    "$ scholar list-authors\n",
    "```"
   ]
  },
  {
   "cell_type": "code",
   "execution_count": 6,
   "id": "4bf62aa4",
   "metadata": {},
   "outputs": [
    {
     "name": "stdout",
     "output_type": "stream",
     "text": [
      "\u001b[3m       Authors       \u001b[0m\r\n",
      "┏━━━━━━┳━━━━━━━━━━━━┓\r\n",
      "┃\u001b[1m \u001b[0m\u001b[1mName\u001b[0m\u001b[1m \u001b[0m┃\u001b[1m \u001b[0m\u001b[1mScholar ID\u001b[0m\u001b[1m \u001b[0m┃\r\n",
      "┡━━━━━━╇━━━━━━━━━━━━┩\r\n",
      "└──────┴────────────┘\r\n"
     ]
    }
   ],
   "source": [
    "!scholar list-authors"
   ]
  },
  {
   "cell_type": "markdown",
   "id": "756d1418",
   "metadata": {},
   "source": [
    "Now we could try to add an author to the database by using the command\n",
    "```\n",
    "$ scholar add-author <name of author>\n",
    "```\n",
    "e.g\n",
    "```\n",
    "$ scholar add-author 'Henrik Finsberg'\n",
    "```\n"
   ]
  },
  {
   "cell_type": "code",
   "execution_count": 7,
   "id": "0c601157",
   "metadata": {},
   "outputs": [
    {
     "name": "stdout",
     "output_type": "stream",
     "text": [
      "Cache dir /Users/finsberg/local/src/pygscholar/cache does not exist. Creating...\n",
      "\u001b[2m2022-12-31 09:14:26\u001b[0m [\u001b[32m\u001b[1minfo     \u001b[0m] \u001b[1mGet author info for Henrik Finsberg\u001b[0m\n",
      "Successfully added author with name Henrik Nicolay Finsberg and scholar id NDPIHoEAAAAJ\n"
     ]
    }
   ],
   "source": [
    "!scholar add-author 'Henrik Finsberg'"
   ]
  },
  {
   "cell_type": "markdown",
   "id": "870dacbf",
   "metadata": {},
   "source": [
    "You can now try to list the authors again"
   ]
  },
  {
   "cell_type": "code",
   "execution_count": 8,
   "id": "25a3ce81",
   "metadata": {},
   "outputs": [
    {
     "name": "stdout",
     "output_type": "stream",
     "text": [
      "Henrik Nicolay Finsberg\r\n",
      "\u001b[3m                 Authors                  \u001b[0m\r\n",
      "┏━━━━━━━━━━━━━━━━━━━━━━━━━┳━━━━━━━━━━━━━━┓\r\n",
      "┃\u001b[1m \u001b[0m\u001b[1m                   Name\u001b[0m\u001b[1m \u001b[0m┃\u001b[1m \u001b[0m\u001b[1mScholar ID  \u001b[0m\u001b[1m \u001b[0m┃\r\n",
      "┡━━━━━━━━━━━━━━━━━━━━━━━━━╇━━━━━━━━━━━━━━┩\r\n",
      "│\u001b[36m \u001b[0m\u001b[36mHenrik Nicolay Finsberg\u001b[0m\u001b[36m \u001b[0m│\u001b[35m \u001b[0m\u001b[35mNDPIHoEAAAAJ\u001b[0m\u001b[35m \u001b[0m│\r\n",
      "└─────────────────────────┴──────────────┘\r\n"
     ]
    }
   ],
   "source": [
    "!scholar list-authors"
   ]
  },
  {
   "cell_type": "markdown",
   "id": "5782d6c6",
   "metadata": {},
   "source": [
    "As we can see, we didn't type the full name (i.e Henrik Nicolay Finsberg), but the program was still able to find the author. Sometimes there are more than one person with the same name in which case you can use the `Scholar ID` to specify which person you mean. We can firs use the command\n",
    "```\n",
    "$ scholar search-author\n",
    "```\n",
    "To search for an author. This would be equivalent of searching for an author at Google Scholar. Let us say that we want to add a person with surname 'Sundnes' that we know work at Simula Research Laboratory. We can then search for `Sundnes`\n",
    "```\n",
    "$ scholar search-author 'Sundnes'\n",
    "```"
   ]
  },
  {
   "cell_type": "code",
   "execution_count": 9,
   "id": "502572ea",
   "metadata": {},
   "outputs": [
    {
     "name": "stdout",
     "output_type": "stream",
     "text": [
      "\u001b[3m                      Search results for author 'Sundnes'                       \u001b[0m\r\n",
      "┏━━━━━━━━━━━━━━━━━━━━━━━┳━━━━━━━━━━━━━━┳━━━━━━━━━━━━━━━━━━━━━━━━━━━━┳━━━━━━━━━━┓\r\n",
      "┃\u001b[1m \u001b[0m\u001b[1mName                 \u001b[0m\u001b[1m \u001b[0m┃\u001b[1m \u001b[0m\u001b[1mScholar ID  \u001b[0m\u001b[1m \u001b[0m┃\u001b[1m \u001b[0m\u001b[1mAffiliation               \u001b[0m\u001b[1m \u001b[0m┃\u001b[1m \u001b[0m\u001b[1mCited by\u001b[0m\u001b[1m \u001b[0m┃\r\n",
      "┡━━━━━━━━━━━━━━━━━━━━━━━╇━━━━━━━━━━━━━━╇━━━━━━━━━━━━━━━━━━━━━━━━━━━━╇━━━━━━━━━━┩\r\n",
      "│\u001b[36m \u001b[0m\u001b[36mJoakim Sundnes       \u001b[0m\u001b[36m \u001b[0m│\u001b[35m \u001b[0m\u001b[35mYfOpQUcAAAAJ\u001b[0m\u001b[35m \u001b[0m│\u001b[34m \u001b[0m\u001b[34mSimula Research Laboratory\u001b[0m\u001b[34m \u001b[0m│\u001b[33m \u001b[0m\u001b[33m2467    \u001b[0m\u001b[33m \u001b[0m│\r\n",
      "│\u001b[36m \u001b[0m\u001b[36mAnders Sundnes Løvlie\u001b[0m\u001b[36m \u001b[0m│\u001b[35m \u001b[0m\u001b[35mUhP1dScAAAAJ\u001b[0m\u001b[35m \u001b[0m│\u001b[34m \u001b[0m\u001b[34mIT University of          \u001b[0m\u001b[34m \u001b[0m│\u001b[33m \u001b[0m\u001b[33m448     \u001b[0m\u001b[33m \u001b[0m│\r\n",
      "│\u001b[36m                       \u001b[0m│\u001b[35m              \u001b[0m│\u001b[34m \u001b[0m\u001b[34mCopenhagen                \u001b[0m\u001b[34m \u001b[0m│\u001b[33m          \u001b[0m│\r\n",
      "│\u001b[36m \u001b[0m\u001b[36mTomas Sundnes Drønen \u001b[0m\u001b[36m \u001b[0m│\u001b[35m \u001b[0m\u001b[35m9VMwxKAAAAAJ\u001b[0m\u001b[35m \u001b[0m│\u001b[34m \u001b[0m\u001b[34mVID vitenskapelige        \u001b[0m\u001b[34m \u001b[0m│\u001b[33m \u001b[0m\u001b[33m173     \u001b[0m\u001b[33m \u001b[0m│\r\n",
      "│\u001b[36m                       \u001b[0m│\u001b[35m              \u001b[0m│\u001b[34m \u001b[0m\u001b[34mhøgskole                  \u001b[0m\u001b[34m \u001b[0m│\u001b[33m          \u001b[0m│\r\n",
      "│\u001b[36m \u001b[0m\u001b[36mFrode Sundnes        \u001b[0m\u001b[36m \u001b[0m│\u001b[35m \u001b[0m\u001b[35m4T4561wAAAAJ\u001b[0m\u001b[35m \u001b[0m│\u001b[34m \u001b[0m\u001b[34mNorwegian Institute for   \u001b[0m\u001b[34m \u001b[0m│\u001b[33m \u001b[0m\u001b[33m78      \u001b[0m\u001b[33m \u001b[0m│\r\n",
      "│\u001b[36m                       \u001b[0m│\u001b[35m              \u001b[0m│\u001b[34m \u001b[0m\u001b[34mWater Research            \u001b[0m\u001b[34m \u001b[0m│\u001b[33m          \u001b[0m│\r\n",
      "└───────────────────────┴──────────────┴────────────────────────────┴──────────┘\r\n"
     ]
    }
   ],
   "source": [
    "!scholar search-author 'Sundnes'"
   ]
  },
  {
   "cell_type": "markdown",
   "id": "c66c9747",
   "metadata": {},
   "source": [
    "We see that, the person we are looking for is `Joakim Sundnes`, so we could go ahead an add this author, or we could use the `Scholar ID` as follows\n",
    "\n",
    "```\n",
    "$ scholar add-author 'Sundnes' --scholar-id=YfOpQUcAAAAJ\n",
    "```"
   ]
  },
  {
   "cell_type": "code",
   "execution_count": 10,
   "id": "e26ff26d",
   "metadata": {},
   "outputs": [
    {
     "name": "stdout",
     "output_type": "stream",
     "text": [
      "\u001b[2m2022-12-31 09:22:25\u001b[0m [\u001b[32m\u001b[1minfo     \u001b[0m] \u001b[1mGet author info for Sundnes\u001b[0m\n",
      "Successfully added author with name Joakim Sundnes and scholar id YfOpQUcAAAAJ\n"
     ]
    }
   ],
   "source": [
    "!scholar add-author 'Sundnes' --scholar-id=YfOpQUcAAAAJ"
   ]
  },
  {
   "cell_type": "markdown",
   "id": "20f4ec72",
   "metadata": {},
   "source": [
    "We can now list the authors again"
   ]
  },
  {
   "cell_type": "code",
   "execution_count": 11,
   "id": "a66489a2",
   "metadata": {},
   "outputs": [
    {
     "name": "stdout",
     "output_type": "stream",
     "text": [
      "Henrik Nicolay Finsberg\r\n",
      "Joakim Sundnes\r\n",
      "\u001b[3m                 Authors                  \u001b[0m\r\n",
      "┏━━━━━━━━━━━━━━━━━━━━━━━━━┳━━━━━━━━━━━━━━┓\r\n",
      "┃\u001b[1m \u001b[0m\u001b[1m                   Name\u001b[0m\u001b[1m \u001b[0m┃\u001b[1m \u001b[0m\u001b[1mScholar ID  \u001b[0m\u001b[1m \u001b[0m┃\r\n",
      "┡━━━━━━━━━━━━━━━━━━━━━━━━━╇━━━━━━━━━━━━━━┩\r\n",
      "│\u001b[36m \u001b[0m\u001b[36mHenrik Nicolay Finsberg\u001b[0m\u001b[36m \u001b[0m│\u001b[35m \u001b[0m\u001b[35mNDPIHoEAAAAJ\u001b[0m\u001b[35m \u001b[0m│\r\n",
      "│\u001b[36m \u001b[0m\u001b[36m         Joakim Sundnes\u001b[0m\u001b[36m \u001b[0m│\u001b[35m \u001b[0m\u001b[35mYfOpQUcAAAAJ\u001b[0m\u001b[35m \u001b[0m│\r\n",
      "└─────────────────────────┴──────────────┘\r\n"
     ]
    }
   ],
   "source": [
    "!scholar list-authors"
   ]
  },
  {
   "cell_type": "markdown",
   "id": "b6efea9b",
   "metadata": {},
   "source": [
    "## Listing author publications \n",
    "The next command we want to look at is the command\n",
    "```\n",
    "$ scholar list-author-publications\n",
    "```\n",
    "We can take a look at the help section first"
   ]
  },
  {
   "cell_type": "code",
   "execution_count": 12,
   "id": "15fcd5d1",
   "metadata": {},
   "outputs": [
    {
     "name": "stdout",
     "output_type": "stream",
     "text": [
      "\u001b[1m                                                                                \u001b[0m\r\n",
      "\u001b[1m \u001b[0m\u001b[1;33mUsage: \u001b[0m\u001b[1mscholar list-author-publications [OPTIONS] NAME\u001b[0m\u001b[1m                        \u001b[0m\u001b[1m \u001b[0m\r\n",
      "\u001b[1m                                                                                \u001b[0m\r\n",
      " List authors publications                                                      \r\n",
      "                                                                                \r\n",
      "\u001b[2m╭─\u001b[0m\u001b[2m Arguments \u001b[0m\u001b[2m─────────────────────────────────────────────────────────────────\u001b[0m\u001b[2m─╮\u001b[0m\r\n",
      "\u001b[2m│\u001b[0m \u001b[31m*\u001b[0m    name      \u001b[1;33mTEXT\u001b[0m  \u001b[2m[default: None]\u001b[0m \u001b[2;31m[required]\u001b[0m                              \u001b[2m│\u001b[0m\r\n",
      "\u001b[2m╰──────────────────────────────────────────────────────────────────────────────╯\u001b[0m\r\n",
      "\u001b[2m╭─\u001b[0m\u001b[2m Options \u001b[0m\u001b[2m───────────────────────────────────────────────────────────────────\u001b[0m\u001b[2m─╮\u001b[0m\r\n",
      "\u001b[2m│\u001b[0m \u001b[1;36m-\u001b[0m\u001b[1;36m-n\u001b[0m                                            \u001b[1;33mINTEGER\u001b[0m  \u001b[2m[default: 5]\u001b[0m         \u001b[2m│\u001b[0m\r\n",
      "\u001b[2m│\u001b[0m \u001b[1;36m-\u001b[0m\u001b[1;36m-sort\u001b[0m\u001b[1;36m-by-citations\u001b[0m    \u001b[1;35m-\u001b[0m\u001b[1;35m-no\u001b[0m\u001b[1;35m-sort-by-citati…\u001b[0m    \u001b[1;33m       \u001b[0m  \u001b[2m[default:           \u001b[0m \u001b[2m│\u001b[0m\r\n",
      "\u001b[2m│\u001b[0m                                                         \u001b[2msort-by-citations]  \u001b[0m \u001b[2m│\u001b[0m\r\n",
      "\u001b[2m│\u001b[0m \u001b[1;36m-\u001b[0m\u001b[1;36m-add\u001b[0m\u001b[1;36m-authors\u001b[0m          \u001b[1;35m-\u001b[0m\u001b[1;35m-no\u001b[0m\u001b[1;35m-add-authors\u001b[0m        \u001b[1;33m       \u001b[0m  \u001b[2m[default:           \u001b[0m \u001b[2m│\u001b[0m\r\n",
      "\u001b[2m│\u001b[0m                                                         \u001b[2mno-add-authors]     \u001b[0m \u001b[2m│\u001b[0m\r\n",
      "\u001b[2m│\u001b[0m \u001b[1;36m-\u001b[0m\u001b[1;36m-max\u001b[0m\u001b[1;36m-age\u001b[0m                                      \u001b[1;33mINTEGER\u001b[0m  \u001b[2m[default: None]\u001b[0m      \u001b[2m│\u001b[0m\r\n",
      "\u001b[2m│\u001b[0m \u001b[1;36m-\u001b[0m\u001b[1;36m-cache\u001b[0m\u001b[1;36m-dir\u001b[0m                                    \u001b[1;33mTEXT   \u001b[0m  \u001b[2m[default:           \u001b[0m \u001b[2m│\u001b[0m\r\n",
      "\u001b[2m│\u001b[0m                                                         \u001b[2m/Users/finsberg/loc…\u001b[0m \u001b[2m│\u001b[0m\r\n",
      "\u001b[2m│\u001b[0m \u001b[1;36m-\u001b[0m\u001b[1;36m-help\u001b[0m                                         \u001b[1;33m       \u001b[0m  Show this message    \u001b[2m│\u001b[0m\r\n",
      "\u001b[2m│\u001b[0m                                                         and exit.            \u001b[2m│\u001b[0m\r\n",
      "\u001b[2m╰──────────────────────────────────────────────────────────────────────────────╯\u001b[0m\r\n",
      "\r\n"
     ]
    }
   ],
   "source": [
    "!scholar list-author-publications --help"
   ]
  },
  {
   "cell_type": "markdown",
   "id": "80444b09",
   "metadata": {},
   "source": [
    "We see that the command takes a name, which is the name of the author. Let us try it on one of the names in the database"
   ]
  },
  {
   "cell_type": "code",
   "execution_count": 13,
   "id": "4b0d1a89",
   "metadata": {},
   "outputs": [
    {
     "name": "stdout",
     "output_type": "stream",
     "text": [
      "Could not find author with name 'Henrik Finsberg'. Will use 'Henrik Nicolay Finsberg' instead\n",
      "\u001b[2m2022-12-31 09:27:45\u001b[0m [\u001b[32m\u001b[1minfo     \u001b[0m] \u001b[1mGet author info for Henrik Nicolay Finsberg\u001b[0m\n",
      "\u001b[3m         Publications for Henrik Nicolay Finsberg (Sorted by citations)         \u001b[0m\n",
      "┏━━━━━━━━━━━━━━━━━━━━━━━━━━━━━━━━━━━━━━━┳━━━━━━━━━━━━━━━━┳━━━━━━━━━━━━━━━━━━━━━┓\n",
      "┃\u001b[1m \u001b[0m\u001b[1mTitle                                \u001b[0m\u001b[1m \u001b[0m┃\u001b[1m \u001b[0m\u001b[1mPublished year\u001b[0m\u001b[1m \u001b[0m┃\u001b[1m \u001b[0m\u001b[1mNumber of citations\u001b[0m\u001b[1m \u001b[0m┃\n",
      "┡━━━━━━━━━━━━━━━━━━━━━━━━━━━━━━━━━━━━━━━╇━━━━━━━━━━━━━━━━╇━━━━━━━━━━━━━━━━━━━━━┩\n",
      "│\u001b[36m \u001b[0m\u001b[36mEfficient estimation of personalized \u001b[0m\u001b[36m \u001b[0m│\u001b[32m \u001b[0m\u001b[32m2018          \u001b[0m\u001b[32m \u001b[0m│\u001b[33m \u001b[0m\u001b[33m33                 \u001b[0m\u001b[33m \u001b[0m│\n",
      "│\u001b[36m \u001b[0m\u001b[36mbiventricular mechanical function    \u001b[0m\u001b[36m \u001b[0m│\u001b[32m                \u001b[0m│\u001b[33m                     \u001b[0m│\n",
      "│\u001b[36m \u001b[0m\u001b[36memploying gradient‐based optimization\u001b[0m\u001b[36m \u001b[0m│\u001b[32m                \u001b[0m│\u001b[33m                     \u001b[0m│\n",
      "│\u001b[36m \u001b[0m\u001b[36mImproved computational identification\u001b[0m\u001b[36m \u001b[0m│\u001b[32m \u001b[0m\u001b[32m2020          \u001b[0m\u001b[32m \u001b[0m│\u001b[33m \u001b[0m\u001b[33m31                 \u001b[0m\u001b[33m \u001b[0m│\n",
      "│\u001b[36m \u001b[0m\u001b[36mof drug response using optical       \u001b[0m\u001b[36m \u001b[0m│\u001b[32m                \u001b[0m│\u001b[33m                     \u001b[0m│\n",
      "│\u001b[36m \u001b[0m\u001b[36mmeasurements of human stem cell      \u001b[0m\u001b[36m \u001b[0m│\u001b[32m                \u001b[0m│\u001b[33m                     \u001b[0m│\n",
      "│\u001b[36m \u001b[0m\u001b[36mderived cardiomyocytes in            \u001b[0m\u001b[36m \u001b[0m│\u001b[32m                \u001b[0m│\u001b[33m                     \u001b[0m│\n",
      "│\u001b[36m \u001b[0m\u001b[36mmicrophysiological systems           \u001b[0m\u001b[36m \u001b[0m│\u001b[32m                \u001b[0m│\u001b[33m                     \u001b[0m│\n",
      "│\u001b[36m \u001b[0m\u001b[36mEstimating cardiac contraction       \u001b[0m\u001b[36m \u001b[0m│\u001b[32m \u001b[0m\u001b[32m2018          \u001b[0m\u001b[32m \u001b[0m│\u001b[33m \u001b[0m\u001b[33m23                 \u001b[0m\u001b[33m \u001b[0m│\n",
      "│\u001b[36m \u001b[0m\u001b[36mthrough high resolution data         \u001b[0m\u001b[36m \u001b[0m│\u001b[32m                \u001b[0m│\u001b[33m                     \u001b[0m│\n",
      "│\u001b[36m \u001b[0m\u001b[36massimilation of a personalized       \u001b[0m\u001b[36m \u001b[0m│\u001b[32m                \u001b[0m│\u001b[33m                     \u001b[0m│\n",
      "│\u001b[36m \u001b[0m\u001b[36mmechanical model                     \u001b[0m\u001b[36m \u001b[0m│\u001b[32m                \u001b[0m│\u001b[33m                     \u001b[0m│\n",
      "│\u001b[36m \u001b[0m\u001b[36mIn vivo estimation of elastic        \u001b[0m\u001b[36m \u001b[0m│\u001b[32m \u001b[0m\u001b[32m2018          \u001b[0m\u001b[32m \u001b[0m│\u001b[33m \u001b[0m\u001b[33m18                 \u001b[0m\u001b[33m \u001b[0m│\n",
      "│\u001b[36m \u001b[0m\u001b[36mheterogeneity in an infarcted human  \u001b[0m\u001b[36m \u001b[0m│\u001b[32m                \u001b[0m│\u001b[33m                     \u001b[0m│\n",
      "│\u001b[36m \u001b[0m\u001b[36mheart                                \u001b[0m\u001b[36m \u001b[0m│\u001b[32m                \u001b[0m│\u001b[33m                     \u001b[0m│\n",
      "│\u001b[36m \u001b[0m\u001b[36mHigh‐resolution data assimilation of \u001b[0m\u001b[36m \u001b[0m│\u001b[32m \u001b[0m\u001b[32m2017          \u001b[0m\u001b[32m \u001b[0m│\u001b[33m \u001b[0m\u001b[33m16                 \u001b[0m\u001b[33m \u001b[0m│\n",
      "│\u001b[36m \u001b[0m\u001b[36mcardiac mechanics applied to a       \u001b[0m\u001b[36m \u001b[0m│\u001b[32m                \u001b[0m│\u001b[33m                     \u001b[0m│\n",
      "│\u001b[36m \u001b[0m\u001b[36mdyssynchronous ventricle             \u001b[0m\u001b[36m \u001b[0m│\u001b[32m                \u001b[0m│\u001b[33m                     \u001b[0m│\n",
      "└───────────────────────────────────────┴────────────────┴─────────────────────┘\n"
     ]
    }
   ],
   "source": [
    "!scholar list-author-publications 'Henrik Finsberg'"
   ]
  },
  {
   "cell_type": "markdown",
   "id": "12a10eeb",
   "metadata": {},
   "source": [
    "We see that it will display the 5 most cited papers, sorted with the most cited paper on top. We can also choose to display only 3 papers (using the `--n` flag), and we can also choose to not display papers that are more than two years (using the `--max-age` flag). Let us also add all the authors on the papers for each row using the `--add-authors` flag\n",
    "\n",
    "```\n",
    "$ scholar list-author-publications 'Henrik Finsberg' --n=3 --max-age=2 --add-authors\n",
    "```"
   ]
  },
  {
   "cell_type": "code",
   "execution_count": 15,
   "id": "4b9430a3",
   "metadata": {},
   "outputs": [
    {
     "name": "stdout",
     "output_type": "stream",
     "text": [
      "Could not find author with name 'Henrik Finsberg'. Will use 'Henrik Nicolay Finsberg' instead\n",
      "\u001b[2m2022-12-31 09:33:37\u001b[0m [\u001b[32m\u001b[1minfo     \u001b[0m] \u001b[1mGet author info for Henrik Nicolay Finsberg\u001b[0m\n",
      "\u001b[3m         Publications for Henrik Nicolay Finsberg (Sorted by citations)         \u001b[0m\n",
      "┏━━━━━━━━━━━━━━━━━━━━┳━━━━━━━━━━━━━━━━━━━┳━━━━━━━━━━━━━━━━┳━━━━━━━━━━━━━━━━━━━━┓\n",
      "┃\u001b[1m                    \u001b[0m┃\u001b[1m                   \u001b[0m┃\u001b[1m                \u001b[0m┃\u001b[1m \u001b[0m\u001b[1mNumber of         \u001b[0m\u001b[1m \u001b[0m┃\n",
      "┃\u001b[1m \u001b[0m\u001b[1mTitle             \u001b[0m\u001b[1m \u001b[0m┃\u001b[1m \u001b[0m\u001b[1mAuthors          \u001b[0m\u001b[1m \u001b[0m┃\u001b[1m \u001b[0m\u001b[1mPublished year\u001b[0m\u001b[1m \u001b[0m┃\u001b[1m \u001b[0m\u001b[1mcitations         \u001b[0m\u001b[1m \u001b[0m┃\n",
      "┡━━━━━━━━━━━━━━━━━━━━╇━━━━━━━━━━━━━━━━━━━╇━━━━━━━━━━━━━━━━╇━━━━━━━━━━━━━━━━━━━━┩\n",
      "│\u001b[36m \u001b[0m\u001b[36mImproved          \u001b[0m\u001b[36m \u001b[0m│\u001b[35m \u001b[0m\u001b[35mKaroline Horgmo  \u001b[0m\u001b[35m \u001b[0m│\u001b[32m \u001b[0m\u001b[32m2020          \u001b[0m\u001b[32m \u001b[0m│\u001b[33m \u001b[0m\u001b[33m31                \u001b[0m\u001b[33m \u001b[0m│\n",
      "│\u001b[36m \u001b[0m\u001b[36mcomputational     \u001b[0m\u001b[36m \u001b[0m│\u001b[35m \u001b[0m\u001b[35mJæger and Verena \u001b[0m\u001b[35m \u001b[0m│\u001b[32m                \u001b[0m│\u001b[33m                    \u001b[0m│\n",
      "│\u001b[36m \u001b[0m\u001b[36midentification of \u001b[0m\u001b[36m \u001b[0m│\u001b[35m \u001b[0m\u001b[35mCharwat and      \u001b[0m\u001b[35m \u001b[0m│\u001b[32m                \u001b[0m│\u001b[33m                    \u001b[0m│\n",
      "│\u001b[36m \u001b[0m\u001b[36mdrug response     \u001b[0m\u001b[36m \u001b[0m│\u001b[35m \u001b[0m\u001b[35mBérénice Charrez \u001b[0m\u001b[35m \u001b[0m│\u001b[32m                \u001b[0m│\u001b[33m                    \u001b[0m│\n",
      "│\u001b[36m \u001b[0m\u001b[36musing optical     \u001b[0m\u001b[36m \u001b[0m│\u001b[35m \u001b[0m\u001b[35mand Henrik       \u001b[0m\u001b[35m \u001b[0m│\u001b[32m                \u001b[0m│\u001b[33m                    \u001b[0m│\n",
      "│\u001b[36m \u001b[0m\u001b[36mmeasurements of   \u001b[0m\u001b[36m \u001b[0m│\u001b[35m \u001b[0m\u001b[35mFinsberg and Mary\u001b[0m\u001b[35m \u001b[0m│\u001b[32m                \u001b[0m│\u001b[33m                    \u001b[0m│\n",
      "│\u001b[36m \u001b[0m\u001b[36mhuman stem cell   \u001b[0m\u001b[36m \u001b[0m│\u001b[35m \u001b[0m\u001b[35mM Maleckar and   \u001b[0m\u001b[35m \u001b[0m│\u001b[32m                \u001b[0m│\u001b[33m                    \u001b[0m│\n",
      "│\u001b[36m \u001b[0m\u001b[36mderived           \u001b[0m\u001b[36m \u001b[0m│\u001b[35m \u001b[0m\u001b[35mSamuel Wall and  \u001b[0m\u001b[35m \u001b[0m│\u001b[32m                \u001b[0m│\u001b[33m                    \u001b[0m│\n",
      "│\u001b[36m \u001b[0m\u001b[36mcardiomyocytes in \u001b[0m\u001b[36m \u001b[0m│\u001b[35m \u001b[0m\u001b[35mKevin E Healy and\u001b[0m\u001b[35m \u001b[0m│\u001b[32m                \u001b[0m│\u001b[33m                    \u001b[0m│\n",
      "│\u001b[36m \u001b[0m\u001b[36mmicrophysiological\u001b[0m\u001b[36m \u001b[0m│\u001b[35m \u001b[0m\u001b[35mAslak Tveito     \u001b[0m\u001b[35m \u001b[0m│\u001b[32m                \u001b[0m│\u001b[33m                    \u001b[0m│\n",
      "│\u001b[36m \u001b[0m\u001b[36msystems           \u001b[0m\u001b[36m \u001b[0m│\u001b[35m                   \u001b[0m│\u001b[32m                \u001b[0m│\u001b[33m                    \u001b[0m│\n",
      "│\u001b[36m \u001b[0m\u001b[36mIn vitro safety   \u001b[0m\u001b[36m \u001b[0m│\u001b[35m \u001b[0m\u001b[35mBérénice Charrez \u001b[0m\u001b[35m \u001b[0m│\u001b[32m \u001b[0m\u001b[32m2021          \u001b[0m\u001b[32m \u001b[0m│\u001b[33m \u001b[0m\u001b[33m8                 \u001b[0m\u001b[33m \u001b[0m│\n",
      "│\u001b[36m \u001b[0m\u001b[36m“clinical trial”  \u001b[0m\u001b[36m \u001b[0m│\u001b[35m \u001b[0m\u001b[35mand Verena       \u001b[0m\u001b[35m \u001b[0m│\u001b[32m                \u001b[0m│\u001b[33m                    \u001b[0m│\n",
      "│\u001b[36m \u001b[0m\u001b[36mof the cardiac    \u001b[0m\u001b[36m \u001b[0m│\u001b[35m \u001b[0m\u001b[35mCharwat and Brian\u001b[0m\u001b[35m \u001b[0m│\u001b[32m                \u001b[0m│\u001b[33m                    \u001b[0m│\n",
      "│\u001b[36m \u001b[0m\u001b[36mliability of drug \u001b[0m\u001b[36m \u001b[0m│\u001b[35m \u001b[0m\u001b[35mSiemons and      \u001b[0m\u001b[35m \u001b[0m│\u001b[32m                \u001b[0m│\u001b[33m                    \u001b[0m│\n",
      "│\u001b[36m \u001b[0m\u001b[36mpolytherapy       \u001b[0m\u001b[36m \u001b[0m│\u001b[35m \u001b[0m\u001b[35mHenrik Finsberg  \u001b[0m\u001b[35m \u001b[0m│\u001b[32m                \u001b[0m│\u001b[33m                    \u001b[0m│\n",
      "│\u001b[36m                    \u001b[0m│\u001b[35m \u001b[0m\u001b[35mand Evan W Miller\u001b[0m\u001b[35m \u001b[0m│\u001b[32m                \u001b[0m│\u001b[33m                    \u001b[0m│\n",
      "│\u001b[36m                    \u001b[0m│\u001b[35m \u001b[0m\u001b[35mand Andrew G     \u001b[0m\u001b[35m \u001b[0m│\u001b[32m                \u001b[0m│\u001b[33m                    \u001b[0m│\n",
      "│\u001b[36m                    \u001b[0m│\u001b[35m \u001b[0m\u001b[35mEdwards and Kevin\u001b[0m\u001b[35m \u001b[0m│\u001b[32m                \u001b[0m│\u001b[33m                    \u001b[0m│\n",
      "│\u001b[36m                    \u001b[0m│\u001b[35m \u001b[0m\u001b[35mE Healy          \u001b[0m\u001b[35m \u001b[0m│\u001b[32m                \u001b[0m│\u001b[33m                    \u001b[0m│\n",
      "│\u001b[36m \u001b[0m\u001b[36mHeart muscle      \u001b[0m\u001b[36m \u001b[0m│\u001b[35m \u001b[0m\u001b[35mBérénice Charrez \u001b[0m\u001b[35m \u001b[0m│\u001b[32m \u001b[0m\u001b[32m2021          \u001b[0m\u001b[32m \u001b[0m│\u001b[33m \u001b[0m\u001b[33m7                 \u001b[0m\u001b[33m \u001b[0m│\n",
      "│\u001b[36m \u001b[0m\u001b[36mmicrophysiological\u001b[0m\u001b[36m \u001b[0m│\u001b[35m \u001b[0m\u001b[35mand Verena       \u001b[0m\u001b[35m \u001b[0m│\u001b[32m                \u001b[0m│\u001b[33m                    \u001b[0m│\n",
      "│\u001b[36m \u001b[0m\u001b[36msystem for cardiac\u001b[0m\u001b[36m \u001b[0m│\u001b[35m \u001b[0m\u001b[35mCharwat and Brian\u001b[0m\u001b[35m \u001b[0m│\u001b[32m                \u001b[0m│\u001b[33m                    \u001b[0m│\n",
      "│\u001b[36m \u001b[0m\u001b[36mliability         \u001b[0m\u001b[36m \u001b[0m│\u001b[35m \u001b[0m\u001b[35mA Siemons and    \u001b[0m\u001b[35m \u001b[0m│\u001b[32m                \u001b[0m│\u001b[33m                    \u001b[0m│\n",
      "│\u001b[36m \u001b[0m\u001b[36mprediction of     \u001b[0m\u001b[36m \u001b[0m│\u001b[35m \u001b[0m\u001b[35mIshan Goswami and\u001b[0m\u001b[35m \u001b[0m│\u001b[32m                \u001b[0m│\u001b[33m                    \u001b[0m│\n",
      "│\u001b[36m \u001b[0m\u001b[36mrepurposed        \u001b[0m\u001b[36m \u001b[0m│\u001b[35m \u001b[0m\u001b[35mCourtney Sakolish\u001b[0m\u001b[35m \u001b[0m│\u001b[32m                \u001b[0m│\u001b[33m                    \u001b[0m│\n",
      "│\u001b[36m \u001b[0m\u001b[36mCOVID-19          \u001b[0m\u001b[36m \u001b[0m│\u001b[35m \u001b[0m\u001b[35mand Yu-Syuan Luo \u001b[0m\u001b[35m \u001b[0m│\u001b[32m                \u001b[0m│\u001b[33m                    \u001b[0m│\n",
      "│\u001b[36m \u001b[0m\u001b[36mtherapeutics      \u001b[0m\u001b[36m \u001b[0m│\u001b[35m \u001b[0m\u001b[35mand Henrik       \u001b[0m\u001b[35m \u001b[0m│\u001b[32m                \u001b[0m│\u001b[33m                    \u001b[0m│\n",
      "│\u001b[36m                    \u001b[0m│\u001b[35m \u001b[0m\u001b[35mFinsberg and     \u001b[0m\u001b[35m \u001b[0m│\u001b[32m                \u001b[0m│\u001b[33m                    \u001b[0m│\n",
      "│\u001b[36m                    \u001b[0m│\u001b[35m \u001b[0m\u001b[35mAndrew G Edwards \u001b[0m\u001b[35m \u001b[0m│\u001b[32m                \u001b[0m│\u001b[33m                    \u001b[0m│\n",
      "│\u001b[36m                    \u001b[0m│\u001b[35m \u001b[0m\u001b[35mand Evan W Miller\u001b[0m\u001b[35m \u001b[0m│\u001b[32m                \u001b[0m│\u001b[33m                    \u001b[0m│\n",
      "│\u001b[36m                    \u001b[0m│\u001b[35m \u001b[0m\u001b[35mand Ivan Rusyn   \u001b[0m\u001b[35m \u001b[0m│\u001b[32m                \u001b[0m│\u001b[33m                    \u001b[0m│\n",
      "│\u001b[36m                    \u001b[0m│\u001b[35m \u001b[0m\u001b[35mand Kevin E Healy\u001b[0m\u001b[35m \u001b[0m│\u001b[32m                \u001b[0m│\u001b[33m                    \u001b[0m│\n",
      "└────────────────────┴───────────────────┴────────────────┴────────────────────┘\n"
     ]
    }
   ],
   "source": [
    "!scholar list-author-publications 'Henrik Finsberg' --n=3 --max-age=2 --add-authors"
   ]
  },
  {
   "cell_type": "markdown",
   "id": "e6ad1ac6",
   "metadata": {},
   "source": [
    "## Listing publications for the whole deparment\n",
    "\n",
    "Our department now consists of two researchers (Henrik Finsberg and Joakim Sundnes), but you could imaging that you have a lot of researchers in you department. It would then be nice to list all the most cited papers for the whole deparment. We can do this with the \n",
    "```\n",
    "$ scholar list-department-publications\n",
    "```\n",
    "command. Let us first loook at the help menu"
   ]
  },
  {
   "cell_type": "code",
   "execution_count": 19,
   "id": "17ca2ebb",
   "metadata": {},
   "outputs": [
    {
     "name": "stdout",
     "output_type": "stream",
     "text": [
      "\u001b[1m                                                                                \u001b[0m\r\n",
      "\u001b[1m \u001b[0m\u001b[1;33mUsage: \u001b[0m\u001b[1mscholar list-department-publications [OPTIONS]\u001b[0m\u001b[1m                         \u001b[0m\u001b[1m \u001b[0m\r\n",
      "\u001b[1m                                                                                \u001b[0m\r\n",
      " List department publications                                                   \r\n",
      "                                                                                \r\n",
      "\u001b[2m╭─\u001b[0m\u001b[2m Options \u001b[0m\u001b[2m───────────────────────────────────────────────────────────────────\u001b[0m\u001b[2m─╮\u001b[0m\r\n",
      "\u001b[2m│\u001b[0m \u001b[1;36m-\u001b[0m\u001b[1;36m-n\u001b[0m                                            \u001b[1;33mINTEGER\u001b[0m  \u001b[2m[default: 5]\u001b[0m         \u001b[2m│\u001b[0m\r\n",
      "\u001b[2m│\u001b[0m \u001b[1;36m-\u001b[0m\u001b[1;36m-sort\u001b[0m\u001b[1;36m-by-citations\u001b[0m    \u001b[1;35m-\u001b[0m\u001b[1;35m-no\u001b[0m\u001b[1;35m-sort-by-citati…\u001b[0m    \u001b[1;33m       \u001b[0m  \u001b[2m[default:           \u001b[0m \u001b[2m│\u001b[0m\r\n",
      "\u001b[2m│\u001b[0m                                                         \u001b[2msort-by-citations]  \u001b[0m \u001b[2m│\u001b[0m\r\n",
      "\u001b[2m│\u001b[0m \u001b[1;36m-\u001b[0m\u001b[1;36m-add\u001b[0m\u001b[1;36m-authors\u001b[0m          \u001b[1;35m-\u001b[0m\u001b[1;35m-no\u001b[0m\u001b[1;35m-add-authors\u001b[0m        \u001b[1;33m       \u001b[0m  \u001b[2m[default:           \u001b[0m \u001b[2m│\u001b[0m\r\n",
      "\u001b[2m│\u001b[0m                                                         \u001b[2mno-add-authors]     \u001b[0m \u001b[2m│\u001b[0m\r\n",
      "\u001b[2m│\u001b[0m \u001b[1;36m-\u001b[0m\u001b[1;36m-max\u001b[0m\u001b[1;36m-age\u001b[0m                                      \u001b[1;33mINTEGER\u001b[0m  \u001b[2m[default: None]\u001b[0m      \u001b[2m│\u001b[0m\r\n",
      "\u001b[2m│\u001b[0m \u001b[1;36m-\u001b[0m\u001b[1;36m-cache\u001b[0m\u001b[1;36m-dir\u001b[0m                                    \u001b[1;33mTEXT   \u001b[0m  \u001b[2m[default:           \u001b[0m \u001b[2m│\u001b[0m\r\n",
      "\u001b[2m│\u001b[0m                                                         \u001b[2m/Users/finsberg/loc…\u001b[0m \u001b[2m│\u001b[0m\r\n",
      "\u001b[2m│\u001b[0m \u001b[1;36m-\u001b[0m\u001b[1;36m-help\u001b[0m                                         \u001b[1;33m       \u001b[0m  Show this message    \u001b[2m│\u001b[0m\r\n",
      "\u001b[2m│\u001b[0m                                                         and exit.            \u001b[2m│\u001b[0m\r\n",
      "\u001b[2m╰──────────────────────────────────────────────────────────────────────────────╯\u001b[0m\r\n",
      "\r\n"
     ]
    }
   ],
   "source": [
    "!scholar list-department-publications --help"
   ]
  },
  {
   "cell_type": "markdown",
   "id": "40bd09b7",
   "metadata": {},
   "source": [
    "Let us list the most cited papers not older than 2 year using the command\n",
    "```\n",
    "$ scholar list-department-publications --max-age=2\n",
    "```"
   ]
  },
  {
   "cell_type": "code",
   "execution_count": 21,
   "id": "35ee92da",
   "metadata": {},
   "outputs": [
    {
     "name": "stdout",
     "output_type": "stream",
     "text": [
      "\u001b[2m2022-12-31 09:36:40\u001b[0m [\u001b[32m\u001b[1minfo     \u001b[0m] \u001b[1mGet publication for Henrik Nicolay Finsberg with id NDPIHoEAAAAJ\u001b[0m\n",
      "\u001b[2m2022-12-31 09:36:40\u001b[0m [\u001b[32m\u001b[1minfo     \u001b[0m] \u001b[1mGet author info for Henrik Nicolay Finsberg\u001b[0m\n",
      "\u001b[2m2022-12-31 09:36:40\u001b[0m [\u001b[32m\u001b[1minfo     \u001b[0m] \u001b[1mGet publication for Joakim Sundnes with id YfOpQUcAAAAJ\u001b[0m\n",
      "\u001b[2m2022-12-31 09:36:40\u001b[0m [\u001b[32m\u001b[1minfo     \u001b[0m] \u001b[1mGet author info for Joakim Sundnes\u001b[0m\n",
      "\u001b[3m               Publications for department (Sorted by citations)                \u001b[0m\n",
      "┏━━━━━━━━━━━━━━━━━━━━━━━━━━━━━━━━━━━━━━━┳━━━━━━━━━━━━━━━━┳━━━━━━━━━━━━━━━━━━━━━┓\n",
      "┃\u001b[1m \u001b[0m\u001b[1mTitle                                \u001b[0m\u001b[1m \u001b[0m┃\u001b[1m \u001b[0m\u001b[1mPublished year\u001b[0m\u001b[1m \u001b[0m┃\u001b[1m \u001b[0m\u001b[1mNumber of citations\u001b[0m\u001b[1m \u001b[0m┃\n",
      "┡━━━━━━━━━━━━━━━━━━━━━━━━━━━━━━━━━━━━━━━╇━━━━━━━━━━━━━━━━╇━━━━━━━━━━━━━━━━━━━━━┩\n",
      "│\u001b[36m \u001b[0m\u001b[36mUncertainty quantification and       \u001b[0m\u001b[36m \u001b[0m│\u001b[32m \u001b[0m\u001b[32m2020          \u001b[0m\u001b[32m \u001b[0m│\u001b[33m \u001b[0m\u001b[33m32                 \u001b[0m\u001b[33m \u001b[0m│\n",
      "│\u001b[36m \u001b[0m\u001b[36msensitivity analysis of left         \u001b[0m\u001b[36m \u001b[0m│\u001b[32m                \u001b[0m│\u001b[33m                     \u001b[0m│\n",
      "│\u001b[36m \u001b[0m\u001b[36mventricular function during the full \u001b[0m\u001b[36m \u001b[0m│\u001b[32m                \u001b[0m│\u001b[33m                     \u001b[0m│\n",
      "│\u001b[36m \u001b[0m\u001b[36mcardiac cycle                        \u001b[0m\u001b[36m \u001b[0m│\u001b[32m                \u001b[0m│\u001b[33m                     \u001b[0m│\n",
      "│\u001b[36m \u001b[0m\u001b[36mImproved computational identification\u001b[0m\u001b[36m \u001b[0m│\u001b[32m \u001b[0m\u001b[32m2020          \u001b[0m\u001b[32m \u001b[0m│\u001b[33m \u001b[0m\u001b[33m31                 \u001b[0m\u001b[33m \u001b[0m│\n",
      "│\u001b[36m \u001b[0m\u001b[36mof drug response using optical       \u001b[0m\u001b[36m \u001b[0m│\u001b[32m                \u001b[0m│\u001b[33m                     \u001b[0m│\n",
      "│\u001b[36m \u001b[0m\u001b[36mmeasurements of human stem cell      \u001b[0m\u001b[36m \u001b[0m│\u001b[32m                \u001b[0m│\u001b[33m                     \u001b[0m│\n",
      "│\u001b[36m \u001b[0m\u001b[36mderived cardiomyocytes in            \u001b[0m\u001b[36m \u001b[0m│\u001b[32m                \u001b[0m│\u001b[33m                     \u001b[0m│\n",
      "│\u001b[36m \u001b[0m\u001b[36mmicrophysiological systems           \u001b[0m\u001b[36m \u001b[0m│\u001b[32m                \u001b[0m│\u001b[33m                     \u001b[0m│\n",
      "│\u001b[36m \u001b[0m\u001b[36mNationwide rollout reveals efficacy  \u001b[0m\u001b[36m \u001b[0m│\u001b[32m \u001b[0m\u001b[32m2021          \u001b[0m\u001b[32m \u001b[0m│\u001b[33m \u001b[0m\u001b[33m14                 \u001b[0m\u001b[33m \u001b[0m│\n",
      "│\u001b[36m \u001b[0m\u001b[36mof epidemic control through digital  \u001b[0m\u001b[36m \u001b[0m│\u001b[32m                \u001b[0m│\u001b[33m                     \u001b[0m│\n",
      "│\u001b[36m \u001b[0m\u001b[36mcontact tracing                      \u001b[0m\u001b[36m \u001b[0m│\u001b[32m                \u001b[0m│\u001b[33m                     \u001b[0m│\n",
      "│\u001b[36m \u001b[0m\u001b[36mComputational modeling studies of the\u001b[0m\u001b[36m \u001b[0m│\u001b[32m \u001b[0m\u001b[32m2021          \u001b[0m\u001b[32m \u001b[0m│\u001b[33m \u001b[0m\u001b[33m12                 \u001b[0m\u001b[33m \u001b[0m│\n",
      "│\u001b[36m \u001b[0m\u001b[36mroles of left ventricular geometry,  \u001b[0m\u001b[36m \u001b[0m│\u001b[32m                \u001b[0m│\u001b[33m                     \u001b[0m│\n",
      "│\u001b[36m \u001b[0m\u001b[36mafterload, and muscle contractility  \u001b[0m\u001b[36m \u001b[0m│\u001b[32m                \u001b[0m│\u001b[33m                     \u001b[0m│\n",
      "│\u001b[36m \u001b[0m\u001b[36mon myocardial strains in heart       \u001b[0m\u001b[36m \u001b[0m│\u001b[32m                \u001b[0m│\u001b[33m                     \u001b[0m│\n",
      "│\u001b[36m \u001b[0m\u001b[36mfailure with preserved ejection …    \u001b[0m\u001b[36m \u001b[0m│\u001b[32m                \u001b[0m│\u001b[33m                     \u001b[0m│\n",
      "│\u001b[36m \u001b[0m\u001b[36mIn vitro safety “clinical trial” of  \u001b[0m\u001b[36m \u001b[0m│\u001b[32m \u001b[0m\u001b[32m2021          \u001b[0m\u001b[32m \u001b[0m│\u001b[33m \u001b[0m\u001b[33m8                  \u001b[0m\u001b[33m \u001b[0m│\n",
      "│\u001b[36m \u001b[0m\u001b[36mthe cardiac liability of drug        \u001b[0m\u001b[36m \u001b[0m│\u001b[32m                \u001b[0m│\u001b[33m                     \u001b[0m│\n",
      "│\u001b[36m \u001b[0m\u001b[36mpolytherapy                          \u001b[0m\u001b[36m \u001b[0m│\u001b[32m                \u001b[0m│\u001b[33m                     \u001b[0m│\n",
      "└───────────────────────────────────────┴────────────────┴─────────────────────┘\n"
     ]
    }
   ],
   "source": [
    "!scholar list-department-publications --max-age=2"
   ]
  },
  {
   "cell_type": "markdown",
   "id": "73d672a7",
   "metadata": {},
   "source": [
    "We can also get the 5 most recent publications using the `--no-sort-by-citations` flag"
   ]
  },
  {
   "cell_type": "code",
   "execution_count": 24,
   "id": "de3978f6",
   "metadata": {},
   "outputs": [
    {
     "name": "stdout",
     "output_type": "stream",
     "text": [
      "\u001b[2m2022-12-31 09:38:16\u001b[0m [\u001b[32m\u001b[1minfo     \u001b[0m] \u001b[1mGet publication for Henrik Nicolay Finsberg with id NDPIHoEAAAAJ\u001b[0m\n",
      "\u001b[2m2022-12-31 09:38:16\u001b[0m [\u001b[32m\u001b[1minfo     \u001b[0m] \u001b[1mGet author info for Henrik Nicolay Finsberg\u001b[0m\n",
      "\u001b[2m2022-12-31 09:38:16\u001b[0m [\u001b[32m\u001b[1minfo     \u001b[0m] \u001b[1mGet publication for Joakim Sundnes with id YfOpQUcAAAAJ\u001b[0m\n",
      "\u001b[2m2022-12-31 09:38:16\u001b[0m [\u001b[32m\u001b[1minfo     \u001b[0m] \u001b[1mGet author info for Joakim Sundnes\u001b[0m\n",
      "\u001b[3m                  Publications for department (Sorted by age)                   \u001b[0m\n",
      "┏━━━━━━━━━━━━━━━━━━━━━━━━━━━━━━━━━━━━━━━┳━━━━━━━━━━━━━━━━┳━━━━━━━━━━━━━━━━━━━━━┓\n",
      "┃\u001b[1m \u001b[0m\u001b[1mTitle                                \u001b[0m\u001b[1m \u001b[0m┃\u001b[1m \u001b[0m\u001b[1mPublished year\u001b[0m\u001b[1m \u001b[0m┃\u001b[1m \u001b[0m\u001b[1mNumber of citations\u001b[0m\u001b[1m \u001b[0m┃\n",
      "┡━━━━━━━━━━━━━━━━━━━━━━━━━━━━━━━━━━━━━━━╇━━━━━━━━━━━━━━━━╇━━━━━━━━━━━━━━━━━━━━━┩\n",
      "│\u001b[36m \u001b[0m\u001b[36mData aggregation and anonymization   \u001b[0m\u001b[36m \u001b[0m│\u001b[32m \u001b[0m\u001b[32m2022          \u001b[0m\u001b[32m \u001b[0m│\u001b[33m \u001b[0m\u001b[33m0                  \u001b[0m\u001b[33m \u001b[0m│\n",
      "│\u001b[36m \u001b[0m\u001b[36mfor mathematical modeling and        \u001b[0m\u001b[36m \u001b[0m│\u001b[32m                \u001b[0m│\u001b[33m                     \u001b[0m│\n",
      "│\u001b[36m \u001b[0m\u001b[36mepidemiological studies              \u001b[0m\u001b[36m \u001b[0m│\u001b[32m                \u001b[0m│\u001b[33m                     \u001b[0m│\n",
      "│\u001b[36m \u001b[0m\u001b[36mComputational models of ventricular  \u001b[0m\u001b[36m \u001b[0m│\u001b[32m \u001b[0m\u001b[32m2022          \u001b[0m\u001b[32m \u001b[0m│\u001b[33m \u001b[0m\u001b[33m0                  \u001b[0m\u001b[33m \u001b[0m│\n",
      "│\u001b[36m \u001b[0m\u001b[36mmechanics and adaptation in response \u001b[0m\u001b[36m \u001b[0m│\u001b[32m                \u001b[0m│\u001b[33m                     \u001b[0m│\n",
      "│\u001b[36m \u001b[0m\u001b[36mto right-ventricular pressure        \u001b[0m\u001b[36m \u001b[0m│\u001b[32m                \u001b[0m│\u001b[33m                     \u001b[0m│\n",
      "│\u001b[36m \u001b[0m\u001b[36moverload                             \u001b[0m\u001b[36m \u001b[0m│\u001b[32m                \u001b[0m│\u001b[33m                     \u001b[0m│\n",
      "│\u001b[36m \u001b[0m\u001b[36mA computational model of right       \u001b[0m\u001b[36m \u001b[0m│\u001b[32m \u001b[0m\u001b[32m2022          \u001b[0m\u001b[32m \u001b[0m│\u001b[33m \u001b[0m\u001b[33m0                  \u001b[0m\u001b[33m \u001b[0m│\n",
      "│\u001b[36m \u001b[0m\u001b[36mventricular remodelling in the       \u001b[0m\u001b[36m \u001b[0m│\u001b[32m                \u001b[0m│\u001b[33m                     \u001b[0m│\n",
      "│\u001b[36m \u001b[0m\u001b[36mpresence of pulmonary arterial       \u001b[0m\u001b[36m \u001b[0m│\u001b[32m                \u001b[0m│\u001b[33m                     \u001b[0m│\n",
      "│\u001b[36m \u001b[0m\u001b[36mhypertension                         \u001b[0m\u001b[36m \u001b[0m│\u001b[32m                \u001b[0m│\u001b[33m                     \u001b[0m│\n",
      "│\u001b[36m \u001b[0m\u001b[36mComputational cardiac physiology for \u001b[0m\u001b[36m \u001b[0m│\u001b[32m \u001b[0m\u001b[32m2022          \u001b[0m\u001b[32m \u001b[0m│\u001b[33m \u001b[0m\u001b[33m0                  \u001b[0m\u001b[33m \u001b[0m│\n",
      "│\u001b[36m \u001b[0m\u001b[36mnew modelers: Origins, foundations,  \u001b[0m\u001b[36m \u001b[0m│\u001b[32m                \u001b[0m│\u001b[33m                     \u001b[0m│\n",
      "│\u001b[36m \u001b[0m\u001b[36mand future                           \u001b[0m\u001b[36m \u001b[0m│\u001b[32m                \u001b[0m│\u001b[33m                     \u001b[0m│\n",
      "│\u001b[36m \u001b[0m\u001b[36mRegional Left Ventricular Fiber      \u001b[0m\u001b[36m \u001b[0m│\u001b[32m \u001b[0m\u001b[32m2022          \u001b[0m\u001b[32m \u001b[0m│\u001b[33m \u001b[0m\u001b[33m0                  \u001b[0m\u001b[33m \u001b[0m│\n",
      "│\u001b[36m \u001b[0m\u001b[36mStress Analysis for Cardiac          \u001b[0m\u001b[36m \u001b[0m│\u001b[32m                \u001b[0m│\u001b[33m                     \u001b[0m│\n",
      "│\u001b[36m \u001b[0m\u001b[36mResynchronization Therapy Response   \u001b[0m\u001b[36m \u001b[0m│\u001b[32m                \u001b[0m│\u001b[33m                     \u001b[0m│\n",
      "└───────────────────────────────────────┴────────────────┴─────────────────────┘\n"
     ]
    }
   ],
   "source": [
    "!scholar list-department-publications --no-sort-by-citations"
   ]
  },
  {
   "cell_type": "code",
   "execution_count": null,
   "id": "cfba9eae",
   "metadata": {},
   "outputs": [],
   "source": []
  }
 ],
 "metadata": {
  "kernelspec": {
   "display_name": "Python 3 (ipykernel)",
   "language": "python",
   "name": "python3"
  },
  "language_info": {
   "codemirror_mode": {
    "name": "ipython",
    "version": 3
   },
   "file_extension": ".py",
   "mimetype": "text/x-python",
   "name": "python",
   "nbconvert_exporter": "python",
   "pygments_lexer": "ipython3",
   "version": "3.10.6"
  }
 },
 "nbformat": 4,
 "nbformat_minor": 5
}
